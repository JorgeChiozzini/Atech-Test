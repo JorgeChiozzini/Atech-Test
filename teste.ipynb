{
 "cells": [
  {
   "cell_type": "code",
   "execution_count": 7,
   "metadata": {},
   "outputs": [
    {
     "name": "stdout",
     "output_type": "stream",
     "text": [
      "nejen\n",
      "c\n"
     ]
    }
   ],
   "source": [
    "def palindromo(X):\n",
    "    def expandir_ao_redor_do_centro(X, esquerda, direita):\n",
    "        while esquerda >= 0 and direita < len(X) and X[esquerda] == X[direita]:\n",
    "            esquerda -= 1  \n",
    "            direita += 1    \n",
    "        return X[esquerda + 1:direita]\n",
    "    \n",
    "    mais_longa = \"\"\n",
    "    \n",
    "    for i in range(len(X)):\n",
    "        palindromo_impar = expandir_ao_redor_do_centro(X, i, i)\n",
    "        palindromo_par = expandir_ao_redor_do_centro(X, i, i + 1)\n",
    "        mais_longa = max(mais_longa, palindromo_impar, palindromo_par, key=len)\n",
    "    \n",
    "    return mais_longa\n",
    "\n",
    "print(palindromo(\"laojsionejenfjn\"))  \n",
    "print(palindromo(\"cb\"))   \n"
   ]
  },
  {
   "cell_type": "code",
   "execution_count": 17,
   "metadata": {},
   "outputs": [
    {
     "name": "stdout",
     "output_type": "stream",
     "text": [
      "0\n",
      "0\n",
      "1\n"
     ]
    }
   ],
   "source": [
    "def parenteses(str):\n",
    "    count = 0\n",
    "    for char in str:\n",
    "        if char == '(':\n",
    "            count += 1\n",
    "        elif char == ')':\n",
    "            count -= 1\n",
    "            if count < 0:\n",
    "                return 0\n",
    "    return 1 if count == 0 else 0\n",
    "\n",
    "print(parenteses(\"(hello ))))(((((world)) \") )\n",
    "print(parenteses(\"((hello (world))\") )\n",
    "print(parenteses(\"hello world\"))    "
   ]
  }
 ],
 "metadata": {
  "kernelspec": {
   "display_name": "Python 3",
   "language": "python",
   "name": "python3"
  },
  "language_info": {
   "codemirror_mode": {
    "name": "ipython",
    "version": 3
   },
   "file_extension": ".py",
   "mimetype": "text/x-python",
   "name": "python",
   "nbconvert_exporter": "python",
   "pygments_lexer": "ipython3",
   "version": "3.10.13"
  }
 },
 "nbformat": 4,
 "nbformat_minor": 2
}
